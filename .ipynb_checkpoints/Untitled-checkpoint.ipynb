{
 "cells": [
  {
   "cell_type": "code",
   "execution_count": 36,
   "metadata": {},
   "outputs": [],
   "source": [
    "import numpy as np\n",
    "import pandas as pd\n",
    "data = pd.read_csv(\"ABB_PriceList_Cleaned.csv\")"
   ]
  },
  {
   "cell_type": "code",
   "execution_count": 37,
   "metadata": {},
   "outputs": [
    {
     "data": {
      "text/html": [
       "<div>\n",
       "<style scoped>\n",
       "    .dataframe tbody tr th:only-of-type {\n",
       "        vertical-align: middle;\n",
       "    }\n",
       "\n",
       "    .dataframe tbody tr th {\n",
       "        vertical-align: top;\n",
       "    }\n",
       "\n",
       "    .dataframe thead th {\n",
       "        text-align: right;\n",
       "    }\n",
       "</style>\n",
       "<table border=\"1\" class=\"dataframe\">\n",
       "  <thead>\n",
       "    <tr style=\"text-align: right;\">\n",
       "      <th></th>\n",
       "      <th>item_code</th>\n",
       "      <th>item_description</th>\n",
       "      <th>MRP</th>\n",
       "      <th>BP</th>\n",
       "      <th>MOQ</th>\n",
       "    </tr>\n",
       "  </thead>\n",
       "  <tbody>\n",
       "    <tr>\n",
       "      <th>0</th>\n",
       "      <td>1SDA066799R1</td>\n",
       "      <td>XT1B 160 TMD 16-450 3p F F</td>\n",
       "      <td>8530.0</td>\n",
       "      <td>0</td>\n",
       "      <td>0</td>\n",
       "    </tr>\n",
       "    <tr>\n",
       "      <th>1</th>\n",
       "      <td>1SDA066800R1</td>\n",
       "      <td>XT1B 160 TMD 20-450 3p F F</td>\n",
       "      <td>8530.0</td>\n",
       "      <td>0</td>\n",
       "      <td>0</td>\n",
       "    </tr>\n",
       "    <tr>\n",
       "      <th>2</th>\n",
       "      <td>1SDA066801R1</td>\n",
       "      <td>XT1B 160 TMD 25-450 3p F F</td>\n",
       "      <td>8530.0</td>\n",
       "      <td>0</td>\n",
       "      <td>0</td>\n",
       "    </tr>\n",
       "    <tr>\n",
       "      <th>3</th>\n",
       "      <td>1SDA066802R1</td>\n",
       "      <td>XT1B 160 TMD 32-450 3p F F</td>\n",
       "      <td>8530.0</td>\n",
       "      <td>0</td>\n",
       "      <td>0</td>\n",
       "    </tr>\n",
       "    <tr>\n",
       "      <th>4</th>\n",
       "      <td>1SDA066803R1</td>\n",
       "      <td>XT1B 160 TMD 40-450 3p F F</td>\n",
       "      <td>8530.0</td>\n",
       "      <td>0</td>\n",
       "      <td>0</td>\n",
       "    </tr>\n",
       "  </tbody>\n",
       "</table>\n",
       "</div>"
      ],
      "text/plain": [
       "      item_code            item_description     MRP  BP  MOQ\n",
       "0  1SDA066799R1  XT1B 160 TMD 16-450 3p F F  8530.0   0    0\n",
       "1  1SDA066800R1  XT1B 160 TMD 20-450 3p F F  8530.0   0    0\n",
       "2  1SDA066801R1  XT1B 160 TMD 25-450 3p F F  8530.0   0    0\n",
       "3  1SDA066802R1  XT1B 160 TMD 32-450 3p F F  8530.0   0    0\n",
       "4  1SDA066803R1  XT1B 160 TMD 40-450 3p F F  8530.0   0    0"
      ]
     },
     "execution_count": 37,
     "metadata": {},
     "output_type": "execute_result"
    }
   ],
   "source": [
    "data.head()"
   ]
  },
  {
   "cell_type": "code",
   "execution_count": 38,
   "metadata": {},
   "outputs": [
    {
     "data": {
      "text/plain": [
       "67"
      ]
     },
     "execution_count": 38,
     "metadata": {},
     "output_type": "execute_result"
    }
   ],
   "source": [
    "data['item_code'].duplicated().sum()"
   ]
  },
  {
   "cell_type": "code",
   "execution_count": null,
   "metadata": {},
   "outputs": [],
   "source": [
    "data = data[~data['item_code'].duplicated()]"
   ]
  },
  {
   "cell_type": "code",
   "execution_count": 39,
   "metadata": {},
   "outputs": [],
   "source": [
    "data['item_code'].drop_duplicates(inplace = True)"
   ]
  },
  {
   "cell_type": "code",
   "execution_count": 40,
   "metadata": {
    "scrolled": true
   },
   "outputs": [],
   "source": [
    "data.to_csv(\"ABB_PriceList_Cleaned_2.csv\")"
   ]
  },
  {
   "cell_type": "code",
   "execution_count": 41,
   "metadata": {},
   "outputs": [
    {
     "data": {
      "text/html": [
       "<div>\n",
       "<style scoped>\n",
       "    .dataframe tbody tr th:only-of-type {\n",
       "        vertical-align: middle;\n",
       "    }\n",
       "\n",
       "    .dataframe tbody tr th {\n",
       "        vertical-align: top;\n",
       "    }\n",
       "\n",
       "    .dataframe thead th {\n",
       "        text-align: right;\n",
       "    }\n",
       "</style>\n",
       "<table border=\"1\" class=\"dataframe\">\n",
       "  <thead>\n",
       "    <tr style=\"text-align: right;\">\n",
       "      <th></th>\n",
       "      <th>item_code</th>\n",
       "      <th>item_description</th>\n",
       "      <th>MRP</th>\n",
       "      <th>BP</th>\n",
       "      <th>MOQ</th>\n",
       "    </tr>\n",
       "  </thead>\n",
       "  <tbody>\n",
       "    <tr>\n",
       "      <th>1498</th>\n",
       "      <td>1SCA022456R7410</td>\n",
       "      <td>OA3G01 Aux Contact 1NC OS200...800</td>\n",
       "      <td>680.0</td>\n",
       "      <td>0</td>\n",
       "      <td>0</td>\n",
       "    </tr>\n",
       "    <tr>\n",
       "      <th>1619</th>\n",
       "      <td>1SCA022456R7410</td>\n",
       "      <td>OA3G01</td>\n",
       "      <td>680.0</td>\n",
       "      <td>0</td>\n",
       "      <td>0</td>\n",
       "    </tr>\n",
       "  </tbody>\n",
       "</table>\n",
       "</div>"
      ],
      "text/plain": [
       "            item_code                    item_description    MRP  BP  MOQ\n",
       "1498  1SCA022456R7410  OA3G01 Aux Contact 1NC OS200...800  680.0   0    0\n",
       "1619  1SCA022456R7410                              OA3G01  680.0   0    0"
      ]
     },
     "execution_count": 41,
     "metadata": {},
     "output_type": "execute_result"
    }
   ],
   "source": [
    "data[data['item_code'] == '1SCA022456R7410']"
   ]
  },
  {
   "cell_type": "code",
   "execution_count": 45,
   "metadata": {},
   "outputs": [
    {
     "data": {
      "text/html": [
       "<div>\n",
       "<style scoped>\n",
       "    .dataframe tbody tr th:only-of-type {\n",
       "        vertical-align: middle;\n",
       "    }\n",
       "\n",
       "    .dataframe tbody tr th {\n",
       "        vertical-align: top;\n",
       "    }\n",
       "\n",
       "    .dataframe thead th {\n",
       "        text-align: right;\n",
       "    }\n",
       "</style>\n",
       "<table border=\"1\" class=\"dataframe\">\n",
       "  <thead>\n",
       "    <tr style=\"text-align: right;\">\n",
       "      <th></th>\n",
       "      <th>item_code</th>\n",
       "      <th>item_description</th>\n",
       "      <th>MRP</th>\n",
       "      <th>BP</th>\n",
       "      <th>MOQ</th>\n",
       "    </tr>\n",
       "  </thead>\n",
       "  <tbody>\n",
       "    <tr>\n",
       "      <th>1619</th>\n",
       "      <td>1SCA022456R7410</td>\n",
       "      <td>OA3G01</td>\n",
       "      <td>680.0</td>\n",
       "      <td>0</td>\n",
       "      <td>0</td>\n",
       "    </tr>\n",
       "    <tr>\n",
       "      <th>1748</th>\n",
       "      <td>1SDA054971R1</td>\n",
       "      <td>PB100 low</td>\n",
       "      <td>1620.0</td>\n",
       "      <td>0</td>\n",
       "      <td>0</td>\n",
       "    </tr>\n",
       "    <tr>\n",
       "      <th>2309</th>\n",
       "      <td>1SFN010820R3311</td>\n",
       "      <td>CAL19-11B</td>\n",
       "      <td>900.0</td>\n",
       "      <td>0</td>\n",
       "      <td>0</td>\n",
       "    </tr>\n",
       "    <tr>\n",
       "      <th>2415</th>\n",
       "      <td>1SFL527002R1111</td>\n",
       "      <td>AF205-30-11-11 24-60V50/60HZ 20-60VDC Contactor</td>\n",
       "      <td>47120.0</td>\n",
       "      <td>0</td>\n",
       "      <td>0</td>\n",
       "    </tr>\n",
       "    <tr>\n",
       "      <th>2416</th>\n",
       "      <td>1SFL527002R1211</td>\n",
       "      <td>AF205-30-11-12 48-130V50/60Hz-DC contactor</td>\n",
       "      <td>47120.0</td>\n",
       "      <td>0</td>\n",
       "      <td>0</td>\n",
       "    </tr>\n",
       "    <tr>\n",
       "      <th>...</th>\n",
       "      <td>...</td>\n",
       "      <td>...</td>\n",
       "      <td>...</td>\n",
       "      <td>...</td>\n",
       "      <td>...</td>\n",
       "    </tr>\n",
       "    <tr>\n",
       "      <th>7728</th>\n",
       "      <td>1SDA065524R1</td>\n",
       "      <td>ATS022 AUTO.TRAN.SWITCH ADVANCED CONTROL</td>\n",
       "      <td>107800.0</td>\n",
       "      <td>0</td>\n",
       "      <td>0</td>\n",
       "    </tr>\n",
       "    <tr>\n",
       "      <th>7793</th>\n",
       "      <td>1SDA066988R1</td>\n",
       "      <td>Ekip TT Emax 2/XT2-XT4</td>\n",
       "      <td>7440.0</td>\n",
       "      <td>0</td>\n",
       "      <td>0</td>\n",
       "    </tr>\n",
       "    <tr>\n",
       "      <th>8458</th>\n",
       "      <td>1SDA038320R1</td>\n",
       "      <td>ELECTR.TIME DELAY FOR UVR 220/250V E1/6</td>\n",
       "      <td>14190.0</td>\n",
       "      <td>0</td>\n",
       "      <td>0</td>\n",
       "    </tr>\n",
       "    <tr>\n",
       "      <th>8477</th>\n",
       "      <td>1SDA038366R1</td>\n",
       "      <td>ACCESSORY FOR INTERLOCK  E1/2           (3qty)</td>\n",
       "      <td>9480.0</td>\n",
       "      <td>0</td>\n",
       "      <td>0</td>\n",
       "    </tr>\n",
       "    <tr>\n",
       "      <th>8478</th>\n",
       "      <td>1SDA038364R1</td>\n",
       "      <td>ACCESSORY INTERLOCK W FP -ABD  E1/6    (3qty)</td>\n",
       "      <td>9990.0</td>\n",
       "      <td>0</td>\n",
       "      <td>0</td>\n",
       "    </tr>\n",
       "  </tbody>\n",
       "</table>\n",
       "<p>67 rows × 5 columns</p>\n",
       "</div>"
      ],
      "text/plain": [
       "            item_code                                 item_description  \\\n",
       "1619  1SCA022456R7410                                           OA3G01   \n",
       "1748     1SDA054971R1                                        PB100 low   \n",
       "2309  1SFN010820R3311                                        CAL19-11B   \n",
       "2415  1SFL527002R1111  AF205-30-11-11 24-60V50/60HZ 20-60VDC Contactor   \n",
       "2416  1SFL527002R1211       AF205-30-11-12 48-130V50/60Hz-DC contactor   \n",
       "...               ...                                              ...   \n",
       "7728     1SDA065524R1         ATS022 AUTO.TRAN.SWITCH ADVANCED CONTROL   \n",
       "7793     1SDA066988R1         Ekip TT Emax 2/XT2-XT4                     \n",
       "8458     1SDA038320R1         ELECTR.TIME DELAY FOR UVR 220/250V E1/6    \n",
       "8477     1SDA038366R1   ACCESSORY FOR INTERLOCK  E1/2           (3qty)   \n",
       "8478     1SDA038364R1    ACCESSORY INTERLOCK W FP -ABD  E1/6    (3qty)   \n",
       "\n",
       "           MRP  BP  MOQ  \n",
       "1619     680.0   0    0  \n",
       "1748    1620.0   0    0  \n",
       "2309     900.0   0    0  \n",
       "2415   47120.0   0    0  \n",
       "2416   47120.0   0    0  \n",
       "...        ...  ..  ...  \n",
       "7728  107800.0   0    0  \n",
       "7793    7440.0   0    0  \n",
       "8458   14190.0   0    0  \n",
       "8477    9480.0   0    0  \n",
       "8478    9990.0   0    0  \n",
       "\n",
       "[67 rows x 5 columns]"
      ]
     },
     "execution_count": 45,
     "metadata": {},
     "output_type": "execute_result"
    }
   ],
   "source": [
    "data[data['item_code'].duplicated()]"
   ]
  },
  {
   "cell_type": "code",
   "execution_count": null,
   "metadata": {},
   "outputs": [],
   "source": []
  }
 ],
 "metadata": {
  "kernelspec": {
   "display_name": "Python 3",
   "language": "python",
   "name": "python3"
  },
  "language_info": {
   "codemirror_mode": {
    "name": "ipython",
    "version": 3
   },
   "file_extension": ".py",
   "mimetype": "text/x-python",
   "name": "python",
   "nbconvert_exporter": "python",
   "pygments_lexer": "ipython3",
   "version": "3.7.4"
  }
 },
 "nbformat": 4,
 "nbformat_minor": 4
}
